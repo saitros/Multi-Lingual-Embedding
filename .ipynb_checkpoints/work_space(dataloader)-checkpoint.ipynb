{
 "cells": [
  {
   "cell_type": "code",
   "execution_count": 1,
   "metadata": {},
   "outputs": [],
   "source": [
    "# !pip uninstall googletrans"
   ]
  },
  {
   "cell_type": "code",
   "execution_count": 2,
   "metadata": {},
   "outputs": [],
   "source": [
    "import tensorflow as tf\n",
    "\n",
    "from gensim.models.keyedvectors import KeyedVectors\n",
    "from konlpy.tag import Mecab\n",
    "\n",
    "from googletrans import Translator\n",
    "\n",
    "import time\n",
    "import numpy as np\n",
    "\n",
    "import os\n",
    "import sys\n",
    "import urllib.request\n",
    "import requests\n",
    "import datetime\n",
    "import pickle\n",
    "import json"
   ]
  },
  {
   "cell_type": "code",
   "execution_count": 3,
   "metadata": {},
   "outputs": [],
   "source": [
    "m = Mecab()"
   ]
  },
  {
   "cell_type": "code",
   "execution_count": 4,
   "metadata": {},
   "outputs": [],
   "source": [
    "def embedding_load():\n",
    "    \"\"\"\n",
    "    Load pretrained embedding vec\n",
    "    \"\"\"\n",
    "    en_model = KeyedVectors.load_word2vec_format('./fasttext/wiki.en.vec')\n",
    "    ko_model = KeyedVectors.load_word2vec_format('./fasttext/wiki.ko.vec')\n",
    "    \n",
    "    return en_model, ko_model\n",
    "\n",
    "def get_translate(text, lan, c_id, c_key):\n",
    "    data = {'text' : text,\n",
    "            'source' : 'ko',\n",
    "            'target': lan}\n",
    "\n",
    "    url = \"https://openapi.naver.com/v1/papago/n2mt\"\n",
    "\n",
    "    header = {\"X-Naver-Client-Id\":c_id,\n",
    "              \"X-Naver-Client-Secret\":c_key}\n",
    "\n",
    "    response = requests.post(url, headers=header, data= data)\n",
    "    rescode = response.status_code\n",
    "\n",
    "    if(rescode==200):\n",
    "        t_data = response.json()\n",
    "        return t_data['message']['result']['translatedText']\n",
    "    else:\n",
    "        print(\"Error Code:\" , rescode)\n",
    "\n",
    "def proper_noun(ko_model, method=None):\n",
    "    \"\"\"\n",
    "    \n",
    "    \"\"\"\n",
    "    tic = time.time()\n",
    "    print(f'Proper_noun extract process start')\n",
    "    print(f'Method selected : {method}')\n",
    "    \n",
    "    ko_noun = [i for i in list(ko_model.vocab) if m.pos(i)[0][1] == 'NNP' and len(i) > 1]\n",
    "    ko_noun_sample = ko_noun[:3000]\n",
    "    \n",
    "    en_noun = []\n",
    "    \n",
    "#     return 0\n",
    "    if method == \"google trans\":\n",
    "        translator = Translator()\n",
    "        for i in ko_noun_sample:\n",
    "            en_noun.append(translator.translate(i, src='ko', dest='en').text)\n",
    "\n",
    "            time.sleep(1)\n",
    "    \n",
    "    elif method == \"naver papago\":\n",
    "        client_id = 'Np0XYEpo30dZjQ4CwKjo'\n",
    "        client_secret = 'l6CQ7zor3F'\n",
    "        \n",
    "        for i in ko_noun_sample:\n",
    "            \"\"\"\n",
    "            if API requests exceeds the allowed, return None\n",
    "            \"\"\"\n",
    "            try: \n",
    "                en_noun.append(get_translate(i, 'en', client_id, client_secret).lower())\n",
    "            except:\n",
    "                pass\n",
    "    \n",
    "    tok = time.time()\n",
    "    tictok = str(datetime.timedelta(seconds=tok-tic))\n",
    "    print(f'Proper_noun extract process end. Time spend : {tictok}')\n",
    "    \n",
    "    return ko_noun_sample, en_noun"
   ]
  },
  {
   "cell_type": "code",
   "execution_count": 6,
   "metadata": {},
   "outputs": [],
   "source": [
    "en_model, ko_model = embedding_load()"
   ]
  },
  {
   "cell_type": "code",
   "execution_count": 10,
   "metadata": {},
   "outputs": [],
   "source": [
    "result = translator.translate('안녕하세요.', dest=\"ja\")"
   ]
  },
  {
   "cell_type": "code",
   "execution_count": 49,
   "metadata": {},
   "outputs": [
    {
     "name": "stdout",
     "output_type": "stream",
     "text": [
      "미국의\n"
     ]
    }
   ],
   "source": [
    "translator = Translator()\n",
    "translated_obj = translator.translate('미국의', src='ko', dest='en')\n",
    "print(translated_obj.text)"
   ]
  },
  {
   "cell_type": "code",
   "execution_count": 31,
   "metadata": {},
   "outputs": [
    {
     "name": "stdout",
     "output_type": "stream",
     "text": [
      "한국의\n"
     ]
    }
   ],
   "source": [
    "translated_obj = translator.translate('한국의', src='ko', dest='en')\n",
    "print(translated_obj.text)"
   ]
  },
  {
   "cell_type": "code",
   "execution_count": 38,
   "metadata": {},
   "outputs": [],
   "source": [
    "en_noun = [translator.translate(i, src='ko').text for i in list(ko_noun)[:10]]"
   ]
  },
  {
   "cell_type": "code",
   "execution_count": 39,
   "metadata": {},
   "outputs": [
    {
     "data": {
      "text/plain": [
       "['대한민국의', '미국의', '일본', '대한민국', '미국', '올림픽', '등의', '서울', '위키백과', '한국']"
      ]
     },
     "execution_count": 39,
     "metadata": {},
     "output_type": "execute_result"
    }
   ],
   "source": [
    "en_noun"
   ]
  },
  {
   "cell_type": "code",
   "execution_count": 43,
   "metadata": {},
   "outputs": [
    {
     "data": {
      "text/plain": [
       "'안녕'"
      ]
     },
     "execution_count": 43,
     "metadata": {},
     "output_type": "execute_result"
    }
   ],
   "source": [
    "translator.translate('안녕', src='ko', dest='en').text"
   ]
  },
  {
   "cell_type": "code",
   "execution_count": 50,
   "metadata": {},
   "outputs": [
    {
     "name": "stdout",
     "output_type": "stream",
     "text": [
      "Proper_noun extract process start\n",
      "Method selected : naver papago\n",
      "Proper_noun extract process end. Time spend : 0:06:19.501213\n"
     ]
    }
   ],
   "source": [
    "ko_noun_sample, en_noun_sample = proper_noun(ko_model, method='naver papago')"
   ]
  },
  {
   "cell_type": "code",
   "execution_count": 56,
   "metadata": {},
   "outputs": [
    {
     "data": {
      "text/plain": [
       "(1999, 1999)"
      ]
     },
     "execution_count": 56,
     "metadata": {},
     "output_type": "execute_result"
    }
   ],
   "source": [
    "len(ko_noun_sample), len(en_noun_sample)"
   ]
  },
  {
   "cell_type": "code",
   "execution_count": 49,
   "metadata": {},
   "outputs": [],
   "source": [
    "ko_dict = {}\n",
    "en_dict = {}"
   ]
  },
  {
   "cell_type": "code",
   "execution_count": 8,
   "metadata": {},
   "outputs": [
    {
     "name": "stdout",
     "output_type": "stream",
     "text": [
      "Proper_noun extract process start\n",
      "Method selected : naver papago\n",
      "Proper_noun extract process end. Time spend : 0:05:28.952735\n"
     ]
    }
   ],
   "source": [
    "# ko_noun_sample_add1, en_noun_sample_add1 = proper_noun(ko_model, method='naver papago')"
   ]
  },
  {
   "cell_type": "code",
   "execution_count": 16,
   "metadata": {},
   "outputs": [],
   "source": [
    "with open('./data/ko_noun_dict.pkl', \"rb\") as f:\n",
    "    ko_dict = pickle.load(f)\n",
    "    \n",
    "with open('./data/en_noun_dict.pkl', \"rb\") as f:\n",
    "    en_dict = pickle.load(f)"
   ]
  },
  {
   "cell_type": "code",
   "execution_count": 41,
   "metadata": {},
   "outputs": [
    {
     "ename": "NameError",
     "evalue": "name 'ko_moedl' is not defined",
     "output_type": "error",
     "traceback": [
      "\u001b[0;31m---------------------------------------------------------------------------\u001b[0m",
      "\u001b[0;31mNameError\u001b[0m                                 Traceback (most recent call last)",
      "\u001b[0;32m<ipython-input-41-a0c3414fac0e>\u001b[0m in \u001b[0;36m<module>\u001b[0;34m()\u001b[0m\n\u001b[0;32m----> 1\u001b[0;31m \u001b[0mko_noun_sample_add1\u001b[0m\u001b[0;34m[\u001b[0m\u001b[0;36m0\u001b[0m\u001b[0;34m]\u001b[0m\u001b[0;34m,\u001b[0m \u001b[0mko_moedl\u001b[0m\u001b[0;34m.\u001b[0m\u001b[0mget_vector\u001b[0m\u001b[0;34m(\u001b[0m\u001b[0mko_noun_sample_add1\u001b[0m\u001b[0;34m[\u001b[0m\u001b[0;36m0\u001b[0m\u001b[0;34m]\u001b[0m\u001b[0;34m)\u001b[0m\u001b[0;34m\u001b[0m\u001b[0;34m\u001b[0m\u001b[0m\n\u001b[0m",
      "\u001b[0;31mNameError\u001b[0m: name 'ko_moedl' is not defined"
     ]
    }
   ],
   "source": [
    "ko_noun_sample_add1[0], ko_moedl.get_vector(ko_noun_sample_add1[0])"
   ]
  },
  {
   "cell_type": "code",
   "execution_count": 70,
   "metadata": {},
   "outputs": [
    {
     "name": "stdout",
     "output_type": "stream",
     "text": [
      "matsumoto\n",
      "kobayashi\n",
      "china\n",
      "korean\n",
      "northwest\n",
      "albert\n",
      "cloud\n",
      "russia\n",
      "hideyoshi\n",
      "kazakhstan\n",
      "adam\n",
      "england\n",
      "kimura\n",
      "joseon\n",
      "lawrence\n",
      "solidarity\n",
      "hitler\n",
      "china\n",
      "dragons\n",
      "takeshi\n",
      "organizing\n",
      "uzbekistan\n",
      "girls\n",
      "valley\n",
      "russia\n",
      "wiki\n",
      "robert\n",
      "times\n",
      "manhattan\n",
      "cameroon\n",
      "benjamin\n",
      "alfred\n",
      "laos\n",
      "india\n",
      "joseph\n",
      "silla\n",
      "dragons\n",
      "albert\n",
      "fighters\n",
      "bangladesh\n",
      "matsuda\n",
      "samuel\n",
      "lebanon\n",
      "montenegro\n",
      "japanese\n",
      "tachibana\n",
      "jonathan\n",
      "union\n",
      "matsui\n",
      "guatemala\n",
      "kikuchi\n",
      "bird\n",
      "northwest\n",
      "margaret\n",
      "venice\n",
      "italy\n",
      "angola\n",
      "venus\n",
      "forefather\n"
     ]
    }
   ],
   "source": [
    "if (len(ko_dict) and len(en_dict)):\n",
    "    print('add')\n",
    "    for i in range(len(ko_noun_sample_add1)):\n",
    "        try:\n",
    "            en_dict[en_noun_sample_add1[i]] = en_model.get_vector(en_noun_sample_add1[i])\n",
    "            ko_dict[ko_noun_sample_add1[i]] = ko_model.get_vector(ko_noun_sample_add1[i])\n",
    "            \n",
    "        except:\n",
    "            pass\n",
    "    \n",
    "else:\n",
    "    ko_dict = {}\n",
    "    en_dict = {}\n",
    "    for i in range(len(en_noun_sample)):\n",
    "        try: \n",
    "            tmp = len(en_dict)\n",
    "            en_dict[en_noun_sample[i]] = en_model.get_vector(en_noun_sample[i])\n",
    "            if len(en_dict) == tmp:\n",
    "                print(en_noun_sample[i])\n",
    "            else:\n",
    "                ko_dict[ko_noun_sample[i]] = ko_model.get_vector(ko_noun_sample[i])\n",
    "\n",
    "        except:\n",
    "            pass"
   ]
  },
  {
   "cell_type": "code",
   "execution_count": 71,
   "metadata": {},
   "outputs": [
    {
     "data": {
      "text/plain": [
       "(1250, 1250)"
      ]
     },
     "execution_count": 71,
     "metadata": {},
     "output_type": "execute_result"
    }
   ],
   "source": [
    "len(en_dict), len(ko_dict)"
   ]
  },
  {
   "cell_type": "code",
   "execution_count": 69,
   "metadata": {},
   "outputs": [],
   "source": [
    "ko_dict = {}\n",
    "en_dict = {}"
   ]
  },
  {
   "cell_type": "code",
   "execution_count": 72,
   "metadata": {},
   "outputs": [],
   "source": [
    "with open(f'./data/ko_noun_dict(vocab_size-{len(ko_dict)}).pkl', \"wb\") as fp:\n",
    "    pickle.dump(ko_dict, fp)\n",
    "\n",
    "with open(f'./data/en_noun_dict(vocab_size-{len(en_dict)}).pkl', \"wb\") as fp:\n",
    "    pickle.dump(en_dict, fp)"
   ]
  },
  {
   "cell_type": "code",
   "execution_count": 106,
   "metadata": {},
   "outputs": [],
   "source": [
    "np.save('ko_dict.npy', ko_dict)\n",
    "np.save('en_dict.npy', en_dict)"
   ]
  },
  {
   "cell_type": "code",
   "execution_count": 153,
   "metadata": {
    "collapsed": true
   },
   "outputs": [
    {
     "data": {
      "text/plain": [
       "array([-0.2348   ,  0.16632  , -0.42928  , -0.18025  , -0.15354  ,\n",
       "       -0.16659  , -0.11349  , -0.19434  , -0.27161  , -0.14352  ,\n",
       "        0.0027943,  0.06654  ,  0.1639   , -0.039142 , -0.051727 ,\n",
       "        0.0071263,  0.21649  , -0.070307 , -0.042044 , -0.2936   ,\n",
       "       -0.11884  ,  0.15512  , -0.084749 , -0.24455  , -0.12771  ,\n",
       "       -0.34986  ,  0.36895  , -0.0077137,  0.13818  , -0.1575   ,\n",
       "        0.055542 ,  0.047616 ,  0.33078  , -0.67881  , -0.38748  ,\n",
       "       -0.19999  ,  0.16253  , -0.21847  ,  0.0037893,  0.016311 ,\n",
       "       -0.18195  , -0.21904  ,  0.056312 , -0.25407  , -0.377    ,\n",
       "        0.55629  ,  0.19335  , -0.20228  ,  0.21381  ,  0.0072553,\n",
       "        0.59345  ,  0.29593  , -0.24016  ,  0.038687 ,  0.1417   ,\n",
       "        0.077105 ,  0.23093  ,  0.167    ,  0.13976  ,  0.077893 ,\n",
       "        0.25621  ,  0.20661  , -0.4835   , -0.20328  ,  0.16011  ,\n",
       "        0.048238 , -0.093935 ,  0.37266  ,  0.37774  , -0.2964   ,\n",
       "        0.34253  , -0.015241 , -0.41455  , -0.67799  , -0.23642  ,\n",
       "       -0.30772  ,  0.32554  ,  0.58161  ,  0.15853  , -0.01663  ,\n",
       "        0.28417  , -0.30046  , -0.052635 ,  0.14838  ,  0.26694  ,\n",
       "        0.15901  ,  0.067361 , -0.10634  , -0.21077  , -0.049538 ,\n",
       "       -0.12461  , -0.07533  , -0.23423  ,  0.0044818, -0.14894  ,\n",
       "        0.25007  ,  0.20107  ,  0.0087581, -0.19601  ,  0.24507  ,\n",
       "        0.020873 , -0.12191  ,  0.040587 , -0.057468 , -0.083782 ,\n",
       "        0.0073518, -0.11661  ,  0.33317  , -0.045579 , -0.075954 ,\n",
       "       -0.12301  ,  0.24667  , -0.14659  ,  0.089054 ,  0.33829  ,\n",
       "       -0.2803   , -0.10885  , -0.72634  , -0.035856 , -0.18665  ,\n",
       "       -0.19057  , -0.15244  ,  0.11764  ,  0.26243  , -0.13648  ,\n",
       "        0.018985 , -0.3295   , -0.34568  ,  0.52703  , -0.32363  ,\n",
       "       -0.15613  , -0.24162  ,  0.24673  ,  0.18636  , -0.2544   ,\n",
       "       -0.19427  ,  0.2179   ,  0.10349  ,  0.40483  ,  0.18782  ,\n",
       "       -0.23766  ,  0.13117  ,  0.068734 ,  0.20494  ,  0.1584   ,\n",
       "        0.20697  , -0.082383 , -0.38969  , -0.52219  , -0.2905   ,\n",
       "       -0.22582  ,  0.016619 ,  0.12749  , -0.61803  ,  0.34897  ,\n",
       "       -0.2873   ,  0.056499 ,  0.83877  , -0.51862  ,  0.15892  ,\n",
       "        0.56356  , -0.12164  ,  0.39658  ,  0.01043  ,  0.46039  ,\n",
       "        0.18923  ,  0.14399  ,  0.34221  ,  0.027685 , -0.31743  ,\n",
       "       -0.13904  , -0.096752 ,  0.41673  , -0.28693  , -0.29486  ,\n",
       "        0.10034  , -0.087199 ,  0.13007  ,  0.076279 ,  0.040802 ,\n",
       "       -0.079898 , -0.23109  ,  0.23936  ,  0.066536 ,  0.59855  ,\n",
       "        0.18066  , -0.13308  , -0.24969  ,  0.1103   , -0.29464  ,\n",
       "        0.08291  ,  0.25344  ,  0.17853  ,  0.33664  , -0.029073 ,\n",
       "       -0.36744  , -0.23637  , -0.05729  ,  0.25733  ,  0.1951   ,\n",
       "        0.052715 ,  0.073602 ,  0.038376 ,  0.22137  ,  0.062882 ,\n",
       "        0.05705  , -0.28689  , -0.15736  , -0.19065  ,  0.19691  ,\n",
       "       -0.19402  ,  0.71065  , -0.19837  , -0.18573  ,  0.097381 ,\n",
       "       -0.3025   , -0.14008  , -0.23479  , -0.36143  ,  0.34909  ,\n",
       "       -0.03137  ,  0.1492   , -0.023693 , -0.3157   ,  0.066717 ,\n",
       "        0.31162  ,  0.29756  ,  0.059149 , -0.060008 , -0.22457  ,\n",
       "        0.12827  , -0.37137  , -0.29802  , -0.17765  , -0.15215  ,\n",
       "        0.13036  ,  0.22816  ,  0.51878  ,  0.18399  , -0.33835  ,\n",
       "        0.24093  ,  0.16132  , -0.1416   ,  0.076043 , -0.55147  ,\n",
       "       -0.054895 ,  0.53077  , -0.63831  ,  0.361    ,  0.017163 ,\n",
       "       -0.20676  , -0.11882  ,  0.092218 , -0.21871  ,  0.1988   ,\n",
       "        0.27376  ,  0.12984  , -0.0070696, -0.10353  , -0.048058 ,\n",
       "        0.36725  , -0.25155  ,  0.10473  , -0.39012  , -0.4601   ,\n",
       "       -0.022259 ,  0.1876   ,  0.063368 , -0.016911 ,  0.13848  ,\n",
       "        0.018386 ,  0.095421 , -0.1722   , -0.49055  , -0.084209 ,\n",
       "        0.080943 ,  0.35201  , -0.17556  ,  0.097893 ,  0.60714  ,\n",
       "        0.391    ,  0.42242  , -0.10521  ,  0.36318  ,  0.02255  ,\n",
       "        0.25022  , -0.15346  , -0.39287  ,  0.18993  ,  0.045498 ,\n",
       "       -0.21419  , -0.85623  ,  0.28085  ,  0.32206  ,  0.065386 ,\n",
       "        0.4315   ,  0.019912 , -0.33114  ,  0.18995  , -0.27394  ],\n",
       "      dtype=float32)"
      ]
     },
     "execution_count": 153,
     "metadata": {},
     "output_type": "execute_result"
    }
   ],
   "source": [
    "list(ko_dict.values())[0]"
   ]
  },
  {
   "cell_type": "code",
   "execution_count": null,
   "metadata": {},
   "outputs": [],
   "source": []
  },
  {
   "cell_type": "code",
   "execution_count": 154,
   "metadata": {},
   "outputs": [],
   "source": [
    "def get_noun_data(ko_dict, en_dict):\n",
    "    for i in range(len(ko_dict)):\n",
    "        ko_vector = list(ko_dict.values())[i]\n",
    "        en_vector = list(en_dict.values())[i]\n",
    "        \n",
    "#         yield (ko_word, ko_vector, en_word, en_vector)\n",
    "        yield (ko_vector, en_vector)\n",
    "    \n",
    "def get_noun_data_2(ko_vec, en_vec):\n",
    "    for i in range(len(ko_vec)):\n",
    "        ko_vector = ko_vec[i]\n",
    "        en_vector = en_vec[i]\n",
    "        \n",
    "        yield ko_vector, en_vector"
   ]
  },
  {
   "cell_type": "code",
   "execution_count": 155,
   "metadata": {},
   "outputs": [],
   "source": [
    "gen = get_noun_data_2(list(ko_dict.values()), list(en_dict.values()))"
   ]
  },
  {
   "cell_type": "code",
   "execution_count": 156,
   "metadata": {},
   "outputs": [
    {
     "data": {
      "text/plain": [
       "(array([-0.2348   ,  0.16632  , -0.42928  , -0.18025  , -0.15354  ,\n",
       "        -0.16659  , -0.11349  , -0.19434  , -0.27161  , -0.14352  ,\n",
       "         0.0027943,  0.06654  ,  0.1639   , -0.039142 , -0.051727 ,\n",
       "         0.0071263,  0.21649  , -0.070307 , -0.042044 , -0.2936   ,\n",
       "        -0.11884  ,  0.15512  , -0.084749 , -0.24455  , -0.12771  ,\n",
       "        -0.34986  ,  0.36895  , -0.0077137,  0.13818  , -0.1575   ,\n",
       "         0.055542 ,  0.047616 ,  0.33078  , -0.67881  , -0.38748  ,\n",
       "        -0.19999  ,  0.16253  , -0.21847  ,  0.0037893,  0.016311 ,\n",
       "        -0.18195  , -0.21904  ,  0.056312 , -0.25407  , -0.377    ,\n",
       "         0.55629  ,  0.19335  , -0.20228  ,  0.21381  ,  0.0072553,\n",
       "         0.59345  ,  0.29593  , -0.24016  ,  0.038687 ,  0.1417   ,\n",
       "         0.077105 ,  0.23093  ,  0.167    ,  0.13976  ,  0.077893 ,\n",
       "         0.25621  ,  0.20661  , -0.4835   , -0.20328  ,  0.16011  ,\n",
       "         0.048238 , -0.093935 ,  0.37266  ,  0.37774  , -0.2964   ,\n",
       "         0.34253  , -0.015241 , -0.41455  , -0.67799  , -0.23642  ,\n",
       "        -0.30772  ,  0.32554  ,  0.58161  ,  0.15853  , -0.01663  ,\n",
       "         0.28417  , -0.30046  , -0.052635 ,  0.14838  ,  0.26694  ,\n",
       "         0.15901  ,  0.067361 , -0.10634  , -0.21077  , -0.049538 ,\n",
       "        -0.12461  , -0.07533  , -0.23423  ,  0.0044818, -0.14894  ,\n",
       "         0.25007  ,  0.20107  ,  0.0087581, -0.19601  ,  0.24507  ,\n",
       "         0.020873 , -0.12191  ,  0.040587 , -0.057468 , -0.083782 ,\n",
       "         0.0073518, -0.11661  ,  0.33317  , -0.045579 , -0.075954 ,\n",
       "        -0.12301  ,  0.24667  , -0.14659  ,  0.089054 ,  0.33829  ,\n",
       "        -0.2803   , -0.10885  , -0.72634  , -0.035856 , -0.18665  ,\n",
       "        -0.19057  , -0.15244  ,  0.11764  ,  0.26243  , -0.13648  ,\n",
       "         0.018985 , -0.3295   , -0.34568  ,  0.52703  , -0.32363  ,\n",
       "        -0.15613  , -0.24162  ,  0.24673  ,  0.18636  , -0.2544   ,\n",
       "        -0.19427  ,  0.2179   ,  0.10349  ,  0.40483  ,  0.18782  ,\n",
       "        -0.23766  ,  0.13117  ,  0.068734 ,  0.20494  ,  0.1584   ,\n",
       "         0.20697  , -0.082383 , -0.38969  , -0.52219  , -0.2905   ,\n",
       "        -0.22582  ,  0.016619 ,  0.12749  , -0.61803  ,  0.34897  ,\n",
       "        -0.2873   ,  0.056499 ,  0.83877  , -0.51862  ,  0.15892  ,\n",
       "         0.56356  , -0.12164  ,  0.39658  ,  0.01043  ,  0.46039  ,\n",
       "         0.18923  ,  0.14399  ,  0.34221  ,  0.027685 , -0.31743  ,\n",
       "        -0.13904  , -0.096752 ,  0.41673  , -0.28693  , -0.29486  ,\n",
       "         0.10034  , -0.087199 ,  0.13007  ,  0.076279 ,  0.040802 ,\n",
       "        -0.079898 , -0.23109  ,  0.23936  ,  0.066536 ,  0.59855  ,\n",
       "         0.18066  , -0.13308  , -0.24969  ,  0.1103   , -0.29464  ,\n",
       "         0.08291  ,  0.25344  ,  0.17853  ,  0.33664  , -0.029073 ,\n",
       "        -0.36744  , -0.23637  , -0.05729  ,  0.25733  ,  0.1951   ,\n",
       "         0.052715 ,  0.073602 ,  0.038376 ,  0.22137  ,  0.062882 ,\n",
       "         0.05705  , -0.28689  , -0.15736  , -0.19065  ,  0.19691  ,\n",
       "        -0.19402  ,  0.71065  , -0.19837  , -0.18573  ,  0.097381 ,\n",
       "        -0.3025   , -0.14008  , -0.23479  , -0.36143  ,  0.34909  ,\n",
       "        -0.03137  ,  0.1492   , -0.023693 , -0.3157   ,  0.066717 ,\n",
       "         0.31162  ,  0.29756  ,  0.059149 , -0.060008 , -0.22457  ,\n",
       "         0.12827  , -0.37137  , -0.29802  , -0.17765  , -0.15215  ,\n",
       "         0.13036  ,  0.22816  ,  0.51878  ,  0.18399  , -0.33835  ,\n",
       "         0.24093  ,  0.16132  , -0.1416   ,  0.076043 , -0.55147  ,\n",
       "        -0.054895 ,  0.53077  , -0.63831  ,  0.361    ,  0.017163 ,\n",
       "        -0.20676  , -0.11882  ,  0.092218 , -0.21871  ,  0.1988   ,\n",
       "         0.27376  ,  0.12984  , -0.0070696, -0.10353  , -0.048058 ,\n",
       "         0.36725  , -0.25155  ,  0.10473  , -0.39012  , -0.4601   ,\n",
       "        -0.022259 ,  0.1876   ,  0.063368 , -0.016911 ,  0.13848  ,\n",
       "         0.018386 ,  0.095421 , -0.1722   , -0.49055  , -0.084209 ,\n",
       "         0.080943 ,  0.35201  , -0.17556  ,  0.097893 ,  0.60714  ,\n",
       "         0.391    ,  0.42242  , -0.10521  ,  0.36318  ,  0.02255  ,\n",
       "         0.25022  , -0.15346  , -0.39287  ,  0.18993  ,  0.045498 ,\n",
       "        -0.21419  , -0.85623  ,  0.28085  ,  0.32206  ,  0.065386 ,\n",
       "         0.4315   ,  0.019912 , -0.33114  ,  0.18995  , -0.27394  ],\n",
       "       dtype=float32),\n",
       " array([-1.7814e-01,  2.1955e-02,  1.5505e-01, -9.9185e-02, -2.7303e-01,\n",
       "         2.0690e-01, -7.8039e-02, -1.0141e-01, -1.7620e-01,  2.5109e-01,\n",
       "         1.4317e-01,  1.2695e-01,  1.3783e-02, -3.2117e-01, -1.8242e-01,\n",
       "         2.4378e-01,  3.0810e-02, -2.4322e-01, -2.0234e-01,  8.9927e-02,\n",
       "        -4.2863e-01,  2.6754e-01, -3.0416e-01, -2.5869e-01,  2.8481e-01,\n",
       "         1.2240e-02,  2.7936e-01,  2.3353e-01,  5.0181e-01,  2.1834e-01,\n",
       "         6.4719e-02, -1.2249e-02, -4.6920e-01, -8.6933e-02, -1.0333e-01,\n",
       "         7.4404e-02,  2.5560e-03, -9.4726e-02,  3.4120e-01, -2.1412e-03,\n",
       "        -5.4657e-02, -2.2297e-01, -2.9429e-01,  1.9442e-01, -3.3078e-01,\n",
       "        -3.4079e-01, -1.4320e-01, -2.6670e-01, -1.0396e-01, -3.2391e-01,\n",
       "         2.9696e-02, -1.4755e-02,  6.9155e-02, -2.8558e-01, -4.7641e-01,\n",
       "         4.9965e-02,  2.3270e-01,  1.5873e-01,  2.7182e-01,  6.9888e-01,\n",
       "         2.3516e-01,  1.7310e-02,  5.5990e-01, -5.9756e-02,  1.2832e-01,\n",
       "        -6.5076e-02, -1.7365e-01,  7.3150e-02, -2.6237e-01, -7.6697e-02,\n",
       "         1.4156e-01, -3.7231e-01,  7.7497e-02, -1.7971e-01,  1.1276e-02,\n",
       "         6.3538e-02,  1.9445e-01, -2.5374e-01,  3.1444e-03,  1.0546e-01,\n",
       "         1.7845e-02,  5.6909e-02,  4.2267e-02,  9.8630e-02, -3.0088e-01,\n",
       "        -1.1199e-01, -1.6839e-01,  1.0943e-01,  1.5437e-01,  2.9943e-01,\n",
       "        -1.1852e-02, -1.9011e-01,  2.7708e-01, -2.7608e-01,  1.5134e-01,\n",
       "        -2.5962e-01,  3.5183e-02,  2.1864e-01, -4.2442e-01,  2.9946e-01,\n",
       "        -6.8205e-02, -2.8959e-02,  3.1467e-01, -7.3441e-02,  1.7675e-01,\n",
       "        -1.0900e-02,  6.8566e-02,  1.2738e-01, -1.6132e-02,  1.0530e-01,\n",
       "         1.7893e-01, -2.2539e-01, -1.8286e-01, -3.9407e-02, -1.0367e-01,\n",
       "         3.8248e-01,  8.8434e-02,  1.8616e-01, -6.7612e-02, -8.4580e-02,\n",
       "         2.1700e-01, -2.3181e-01, -1.7957e-01,  1.6475e-01, -9.0403e-02,\n",
       "         1.0813e-02,  5.8231e-02,  1.9045e-01, -3.7158e-03,  6.1612e-02,\n",
       "         1.9022e-01, -1.1215e-02, -9.1676e-02,  1.7180e-02,  1.0128e-01,\n",
       "         1.7365e-01, -1.2937e-01, -2.2261e-01,  1.3682e-01,  8.4329e-02,\n",
       "         1.1779e-01, -1.0732e-03,  2.9977e-01, -2.9216e-02, -2.2304e-01,\n",
       "         4.3209e-01, -2.9062e-03,  1.4512e-02,  8.4956e-03, -2.6431e-01,\n",
       "        -1.4140e-01, -2.7934e-01, -3.9745e-01, -2.3060e-01, -4.4517e-01,\n",
       "         7.0579e-02, -1.0163e-01,  2.9622e-03,  3.5362e-01,  3.9292e-01,\n",
       "         2.0384e-01,  1.8424e-01, -9.4832e-02,  1.4235e-01,  3.8118e-01,\n",
       "        -3.1478e-02,  2.5874e-01,  2.5493e-04,  2.6868e-01, -4.1585e-01,\n",
       "        -1.0672e-01,  3.8325e-01, -7.4869e-02, -6.0900e-02,  5.3020e-02,\n",
       "         2.0744e-01, -2.3796e-01, -2.8788e-02, -1.7704e-01, -9.5766e-02,\n",
       "         1.6350e-02, -2.9296e-02, -1.6783e-01,  3.9242e-02, -2.5568e-01,\n",
       "         5.2242e-01, -2.8106e-01, -1.5574e-01, -7.2394e-02, -9.7651e-02,\n",
       "         1.1953e-01, -1.7638e-01,  3.7532e-02, -4.3097e-02,  8.7150e-02,\n",
       "         2.3321e-01, -1.0217e-01,  3.8121e-01, -9.4865e-02,  1.3887e-01,\n",
       "         2.6207e-01,  4.4105e-02,  1.4945e-01,  2.9885e-02, -6.8417e-02,\n",
       "        -2.7626e-01, -1.5160e-01, -6.9775e-01,  5.5712e-01,  6.2967e-02,\n",
       "         5.9965e-01, -1.4932e-01,  2.3032e-01, -2.0874e-02, -1.9812e-01,\n",
       "        -2.0424e-01, -8.5050e-02, -4.7102e-01, -3.4162e-01,  1.9458e-01,\n",
       "        -2.3252e-01, -3.0705e-01, -1.0517e-01,  4.9428e-01, -1.9124e-01,\n",
       "         1.1929e-01,  4.5211e-02, -2.0592e-01,  8.2783e-02,  2.6686e-01,\n",
       "         3.8932e-01,  3.0137e-01,  2.7935e-02,  7.6626e-02,  8.0591e-02,\n",
       "        -1.7228e-01,  1.3917e-01, -4.5914e-02,  1.3949e-01,  1.7192e-01,\n",
       "        -1.0865e-01,  4.2163e-01,  1.3456e-01, -2.8841e-02,  7.7871e-02,\n",
       "         1.3395e-01, -3.1890e-01, -8.0554e-02,  3.1202e-01,  1.3109e-01,\n",
       "         3.1024e-01,  2.7055e-01,  1.5010e-01, -1.0647e-01,  1.3359e-01,\n",
       "         4.1551e-01,  3.4962e-01,  1.9734e-01,  2.0257e-01,  5.5784e-01,\n",
       "        -2.8603e-01, -4.2326e-02,  2.7780e-01, -2.1109e-01, -3.7050e-01,\n",
       "        -9.2742e-02,  3.8481e-03,  5.0462e-01,  4.2018e-01, -1.6981e-01,\n",
       "        -9.4061e-02, -1.8785e-01, -2.3779e-01, -7.7147e-02,  1.0325e-02,\n",
       "         9.0652e-02, -1.8029e-01,  1.7065e-01, -4.7728e-02, -3.5796e-02,\n",
       "        -1.1494e-01,  6.3033e-01,  1.0139e-01,  6.7471e-02,  3.0453e-01,\n",
       "         2.2438e-01, -2.2147e-01,  3.4278e-01, -1.0598e-01,  4.7833e-01,\n",
       "         1.4666e-01,  1.0379e-01,  4.2018e-01,  8.3425e-02, -4.3787e-01,\n",
       "        -1.0404e-01,  1.5555e-01,  2.6603e-01, -1.7047e-01, -2.0729e-01],\n",
       "       dtype=float32))"
      ]
     },
     "execution_count": 156,
     "metadata": {},
     "output_type": "execute_result"
    }
   ],
   "source": [
    "next(gen)"
   ]
  },
  {
   "cell_type": "code",
   "execution_count": 157,
   "metadata": {},
   "outputs": [],
   "source": [
    "dataset = tf.data.Dataset.from_generator(get_noun_data_2, \n",
    "                              (tf.float64, tf.float64),\n",
    "                              (tf.TensorShape([300]), tf.TensorShape([300])),\n",
    "                               args=(list(ko_dict.values()), list(en_dict.values())))"
   ]
  },
  {
   "cell_type": "code",
   "execution_count": 158,
   "metadata": {},
   "outputs": [
    {
     "data": {
      "text/plain": [
       "<FlatMapDataset shapes: ((300,), (300,)), types: (tf.float64, tf.float64)>"
      ]
     },
     "execution_count": 158,
     "metadata": {},
     "output_type": "execute_result"
    }
   ],
   "source": [
    "dataset"
   ]
  },
  {
   "cell_type": "code",
   "execution_count": 189,
   "metadata": {},
   "outputs": [],
   "source": [
    "from model.transformer import * "
   ]
  },
  {
   "cell_type": "code",
   "execution_count": 190,
   "metadata": {},
   "outputs": [],
   "source": [
    "sample_enc = Encoder(num_layers=1, d_model=64, num_heads=8, dff=512, input_vocab_size=0, maximum_position_encoding=0)"
   ]
  },
  {
   "cell_type": "code",
   "execution_count": 191,
   "metadata": {},
   "outputs": [
    {
     "ename": "AttributeError",
     "evalue": "'Encoder' object has no attribute 'embedding'",
     "output_type": "error",
     "traceback": [
      "\u001b[0;31m---------------------------------------------------------------------------\u001b[0m",
      "\u001b[0;31mAttributeError\u001b[0m                            Traceback (most recent call last)",
      "\u001b[0;32m<ipython-input-191-58c2031f019c>\u001b[0m in \u001b[0;36m<module>\u001b[0;34m()\u001b[0m\n\u001b[1;32m      1\u001b[0m \u001b[0mtemp_input\u001b[0m \u001b[0;34m=\u001b[0m \u001b[0mtf\u001b[0m\u001b[0;34m.\u001b[0m\u001b[0mrandom\u001b[0m\u001b[0;34m.\u001b[0m\u001b[0muniform\u001b[0m\u001b[0;34m(\u001b[0m\u001b[0;34m(\u001b[0m\u001b[0;36m64\u001b[0m\u001b[0;34m,\u001b[0m \u001b[0;36m62\u001b[0m\u001b[0;34m)\u001b[0m\u001b[0;34m,\u001b[0m \u001b[0mdtype\u001b[0m\u001b[0;34m=\u001b[0m\u001b[0mtf\u001b[0m\u001b[0;34m.\u001b[0m\u001b[0mint64\u001b[0m\u001b[0;34m,\u001b[0m \u001b[0mminval\u001b[0m\u001b[0;34m=\u001b[0m\u001b[0;36m0\u001b[0m\u001b[0;34m,\u001b[0m \u001b[0mmaxval\u001b[0m\u001b[0;34m=\u001b[0m\u001b[0;36m200\u001b[0m\u001b[0;34m)\u001b[0m\u001b[0;34m\u001b[0m\u001b[0;34m\u001b[0m\u001b[0m\n\u001b[0;32m----> 2\u001b[0;31m \u001b[0msample_encoder_output\u001b[0m \u001b[0;34m=\u001b[0m \u001b[0msample_enc\u001b[0m\u001b[0;34m(\u001b[0m\u001b[0mtemp_input\u001b[0m\u001b[0;34m,\u001b[0m \u001b[0mtraining\u001b[0m\u001b[0;34m=\u001b[0m\u001b[0;32mFalse\u001b[0m\u001b[0;34m,\u001b[0m \u001b[0mmask\u001b[0m\u001b[0;34m=\u001b[0m\u001b[0;32mNone\u001b[0m\u001b[0;34m)\u001b[0m\u001b[0;34m\u001b[0m\u001b[0;34m\u001b[0m\u001b[0m\n\u001b[0m\u001b[1;32m      3\u001b[0m \u001b[0mprint\u001b[0m\u001b[0;34m(\u001b[0m\u001b[0msample_encoder_output\u001b[0m\u001b[0;34m.\u001b[0m\u001b[0mshape\u001b[0m\u001b[0;34m)\u001b[0m\u001b[0;34m\u001b[0m\u001b[0;34m\u001b[0m\u001b[0m\n",
      "\u001b[0;32m~/anaconda3/envs/tensorflow2_p36/lib/python3.6/site-packages/tensorflow_core/python/keras/engine/base_layer.py\u001b[0m in \u001b[0;36m__call__\u001b[0;34m(self, inputs, *args, **kwargs)\u001b[0m\n\u001b[1;32m    820\u001b[0m           with base_layer_utils.autocast_context_manager(\n\u001b[1;32m    821\u001b[0m               self._compute_dtype):\n\u001b[0;32m--> 822\u001b[0;31m             \u001b[0moutputs\u001b[0m \u001b[0;34m=\u001b[0m \u001b[0mself\u001b[0m\u001b[0;34m.\u001b[0m\u001b[0mcall\u001b[0m\u001b[0;34m(\u001b[0m\u001b[0mcast_inputs\u001b[0m\u001b[0;34m,\u001b[0m \u001b[0;34m*\u001b[0m\u001b[0margs\u001b[0m\u001b[0;34m,\u001b[0m \u001b[0;34m**\u001b[0m\u001b[0mkwargs\u001b[0m\u001b[0;34m)\u001b[0m\u001b[0;34m\u001b[0m\u001b[0;34m\u001b[0m\u001b[0m\n\u001b[0m\u001b[1;32m    823\u001b[0m           \u001b[0mself\u001b[0m\u001b[0;34m.\u001b[0m\u001b[0m_handle_activity_regularization\u001b[0m\u001b[0;34m(\u001b[0m\u001b[0minputs\u001b[0m\u001b[0;34m,\u001b[0m \u001b[0moutputs\u001b[0m\u001b[0;34m)\u001b[0m\u001b[0;34m\u001b[0m\u001b[0;34m\u001b[0m\u001b[0m\n\u001b[1;32m    824\u001b[0m           \u001b[0mself\u001b[0m\u001b[0;34m.\u001b[0m\u001b[0m_set_mask_metadata\u001b[0m\u001b[0;34m(\u001b[0m\u001b[0minputs\u001b[0m\u001b[0;34m,\u001b[0m \u001b[0moutputs\u001b[0m\u001b[0;34m,\u001b[0m \u001b[0minput_masks\u001b[0m\u001b[0;34m)\u001b[0m\u001b[0;34m\u001b[0m\u001b[0;34m\u001b[0m\u001b[0m\n",
      "\u001b[0;32m~/Lee/Multi-lingual-embedding/model/transformer.py\u001b[0m in \u001b[0;36mcall\u001b[0;34m(self, x, training, mask)\u001b[0m\n",
      "\u001b[0;31mAttributeError\u001b[0m: 'Encoder' object has no attribute 'embedding'"
     ]
    }
   ],
   "source": [
    "temp_input = tf.random.uniform((64, 62), dtype=tf.int64, minval=0, maxval=200)\n",
    "sample_encoder_output = sample_enc(temp_input, training=False, mask=None)\n",
    "print(sample_encoder_output.shape)"
   ]
  },
  {
   "cell_type": "code",
   "execution_count": null,
   "metadata": {},
   "outputs": [],
   "source": []
  },
  {
   "cell_type": "code",
   "execution_count": null,
   "metadata": {},
   "outputs": [],
   "source": []
  }
 ],
 "metadata": {
  "kernelspec": {
   "display_name": "Environment (conda_tensorflow2_p36)",
   "language": "python",
   "name": "conda_tensorflow2_p36"
  },
  "language_info": {
   "codemirror_mode": {
    "name": "ipython",
    "version": 3
   },
   "file_extension": ".py",
   "mimetype": "text/x-python",
   "name": "python",
   "nbconvert_exporter": "python",
   "pygments_lexer": "ipython3",
   "version": "3.6.10"
  }
 },
 "nbformat": 4,
 "nbformat_minor": 2
}
